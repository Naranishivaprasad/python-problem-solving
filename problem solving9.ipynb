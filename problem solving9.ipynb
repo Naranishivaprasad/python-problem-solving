{
 "cells": [
  {
   "cell_type": "code",
   "execution_count": 38,
   "id": "bb972496",
   "metadata": {},
   "outputs": [
    {
     "name": "stdout",
     "output_type": "stream",
     "text": [
      "{1, 2, 3, 4}\n"
     ]
    }
   ],
   "source": [
    "# Set-Based Questions\n",
    "# 1. Add Element to a Set\n",
    "# Problem: Add an item to a given set.\n",
    "# Explanation: Use add() method.\n",
    "# Input: {1, 2, 3}, add 4\n",
    "def item(n,m):\n",
    "    n.add(m)\n",
    "    return n\n",
    "n={1,2,3}\n",
    "m=4\n",
    "print(item(n,m))"
   ]
  },
  {
   "cell_type": "code",
   "execution_count": 39,
   "id": "c6b100b3",
   "metadata": {},
   "outputs": [
    {
     "name": "stdout",
     "output_type": "stream",
     "text": [
      "{1, 3}\n"
     ]
    }
   ],
   "source": [
    "# 2. Remove Element from Set\n",
    "# Problem: Remove a specific element from a set.\n",
    "# Explanation: Use remove() or discard() to avoid KeyError.\n",
    "# Input: {1, 2, 3}, remove 2\n",
    "def remove(n,m):\n",
    "    n.remove(m)\n",
    "    return n\n",
    "n={1,2,3}\n",
    "m=2\n",
    "print(remove(n,m))"
   ]
  },
  {
   "cell_type": "code",
   "execution_count": 40,
   "id": "6e09216b",
   "metadata": {},
   "outputs": [
    {
     "name": "stdout",
     "output_type": "stream",
     "text": [
      "{1, 2, 4}\n"
     ]
    }
   ],
   "source": [
    "# 3. Union of Two Sets\n",
    "# Problem: Find union of two sets.\n",
    "# Explanation: Use | operator or union() method.\n",
    "# Input: {1, 2}, {2, 3}\n",
    "\n",
    "def unions(n,m):\n",
    "    res=n.union(m)\n",
    "    return res\n",
    "    \n",
    "n={1,2}\n",
    "m={2,4}\n",
    "print(unions(n,m))"
   ]
  },
  {
   "cell_type": "code",
   "execution_count": 41,
   "id": "0b92d6fe",
   "metadata": {},
   "outputs": [
    {
     "name": "stdout",
     "output_type": "stream",
     "text": [
      "{2}\n"
     ]
    }
   ],
   "source": [
    "# 4. Intersection of Sets\n",
    "# Problem: Find common elements in two sets.\n",
    "# Explanation: Use & operator or intersection().\n",
    "# Input: {1, 2}, {2, 3}\n",
    "def inter(n,m):\n",
    "    res=n.intersection(m)\n",
    "    return res\n",
    "    \n",
    "n={1,2}\n",
    "m={2,4}\n",
    "print(inter(n,m))"
   ]
  },
  {
   "cell_type": "code",
   "execution_count": 44,
   "id": "97d9be1b",
   "metadata": {},
   "outputs": [
    {
     "name": "stdout",
     "output_type": "stream",
     "text": [
      "{1}\n"
     ]
    }
   ],
   "source": [
    "# 5. Difference of Sets\n",
    "# Problem: Elements present in first set but not in second.\n",
    "# Explanation: Use - or difference() method.\n",
    "# Input: {1, 2, 3}, {2, 3}\n",
    "def diff(n,m):\n",
    "    res=n.difference(m)\n",
    "    return res\n",
    "    \n",
    "n={1,2,3}\n",
    "m={2,3}\n",
    "print(diff(n,m))"
   ]
  },
  {
   "cell_type": "code",
   "execution_count": 45,
   "id": "45fa88a0",
   "metadata": {},
   "outputs": [
    {
     "name": "stdout",
     "output_type": "stream",
     "text": [
      "True\n"
     ]
    }
   ],
   "source": [
    "# 6. Check Subset\n",
    "# Problem: Check if one set is a subset of another.\n",
    "# Explanation: Use issubset() method.\n",
    "# Input: {1, 2}, {1, 2, 3}\n",
    "def sub(n,m):\n",
    "    \n",
    "    return n.issubset(m)\n",
    "    \n",
    "n={1,2}\n",
    "m={1,2,4}\n",
    "print(sub(n,m))"
   ]
  },
  {
   "cell_type": "code",
   "execution_count": 46,
   "id": "68d5a6ef",
   "metadata": {},
   "outputs": [
    {
     "name": "stdout",
     "output_type": "stream",
     "text": [
      "3\n"
     ]
    }
   ],
   "source": [
    "# 7. Set Length\n",
    "# Problem: Find number of elements in set.\n",
    "# Explanation: Use len().\n",
    "# Input: {1, 2, 3}\n",
    "def lenth(n):\n",
    "    count=0\n",
    "    for i in n:\n",
    "        count+=1\n",
    "    return count\n",
    "n={1,2,3}\n",
    "print(lenth(n))"
   ]
  },
  {
   "cell_type": "code",
   "execution_count": 47,
   "id": "a4d9e138",
   "metadata": {},
   "outputs": [
    {
     "name": "stdout",
     "output_type": "stream",
     "text": [
      "set()\n"
     ]
    }
   ],
   "source": [
    "# 8. Clear a Set\n",
    "# Problem: Remove all elements from a set.\n",
    "# Explanation: Use clear().\n",
    "# Input: {1, 2, 3}\n",
    "def clear(n):\n",
    "    n.clear()\n",
    "    return n\n",
    "n={1,2,3}\n",
    "print(clear(n))"
   ]
  },
  {
   "cell_type": "code",
   "execution_count": 48,
   "id": "fcd5779f",
   "metadata": {},
   "outputs": [
    {
     "name": "stdout",
     "output_type": "stream",
     "text": [
      "{1, 4}\n"
     ]
    }
   ],
   "source": [
    "# 9. Symmetric Difference\n",
    "# Problem: Find elements in either set but not in both.\n",
    "# Explanation: Use ^ or symmetric_difference()\n",
    "# Input: {1, 2, 3}, {2, 3, 4}\n",
    "# Output: {1, 4}\n",
    "def symentic(n,m):\n",
    "    res=n.symmetric_difference(m)\n",
    "    return res\n",
    "n={1,2,3}\n",
    "m={2,3,4}\n",
    "print(symentic(n,m))"
   ]
  },
  {
   "cell_type": "code",
   "execution_count": 49,
   "id": "0556eb82",
   "metadata": {},
   "outputs": [
    {
     "name": "stdout",
     "output_type": "stream",
     "text": [
      "{1, 2, 3}\n"
     ]
    }
   ],
   "source": [
    "# 10. Convert List to Set\n",
    "# Problem: Remove duplicates using set.\n",
    "# Explanation: Use set() constructor.\n",
    "# Input: [1, 2, 2, 3]\n",
    "# Output: {1, 2, 3}\n",
    "def sets(n):\n",
    "    return set(n)\n",
    "n=[1,2,2,3]\n",
    "print(sets(n))"
   ]
  },
  {
   "cell_type": "code",
   "execution_count": 50,
   "id": "620eab2c",
   "metadata": {},
   "outputs": [
    {
     "name": "stdout",
     "output_type": "stream",
     "text": [
      "{'a': 1, 'b': 2}\n"
     ]
    }
   ],
   "source": [
    "# 11. Create a Dictionary from Two Lists\n",
    "# Problem: Combine two lists into a dictionary.\n",
    "# Explanation: Use zip() function.\n",
    "# Input: [\"a\", \"b\"], [1, 2]\n",
    "def dic(n,m):\n",
    "    d={}\n",
    "    for i in range(len(n)):\n",
    "        d[n[i]]=m[i]\n",
    "    return d\n",
    "n=[\"a\",\"b\"]\n",
    "m=[1,2]\n",
    "print(dic(n,m))"
   ]
  },
  {
   "cell_type": "code",
   "execution_count": 51,
   "id": "009d7026",
   "metadata": {},
   "outputs": [
    {
     "name": "stdout",
     "output_type": "stream",
     "text": [
      "{'a': 2}\n"
     ]
    }
   ],
   "source": [
    "# 12. Update Dictionary Value\n",
    "# Problem: Change value for a specific key.\n",
    "# Explanation: Use assignment dict[key] = value.\n",
    "# Input: {\"a\": 1}, update a to 2\n",
    "def dic(n,v):\n",
    "    n.update({\"a\":2})\n",
    "    return n\n",
    "n={\"a\":1}\n",
    "v=2\n",
    "print(dic(n,v))"
   ]
  },
  {
   "cell_type": "code",
   "execution_count": 52,
   "id": "eebed794",
   "metadata": {},
   "outputs": [
    {
     "name": "stdout",
     "output_type": "stream",
     "text": [
      "{'a': 1}\n"
     ]
    }
   ],
   "source": [
    "#     13. Remove Key from Dictionary\n",
    "# Problem: Delete a key-value pair.\n",
    "# Explanation: Use del or pop() method.\n",
    "# Input: {\"a\": 1, \"b\": 2}, remove b\n",
    "# Output: {\"a\": 1}\n",
    "def remove(n,m):\n",
    "    del n[m]\n",
    "    return n\n",
    "n={\"a\":1,\"b\":2}\n",
    "m=\"b\"\n",
    "print(remove(n,m))"
   ]
  },
  {
   "cell_type": "code",
   "execution_count": 53,
   "id": "a1ac243d",
   "metadata": {},
   "outputs": [
    {
     "name": "stdout",
     "output_type": "stream",
     "text": [
      "True\n"
     ]
    }
   ],
   "source": [
    "# 14. Check Key Existence\n",
    "# Problem: Verify if a key exists.\n",
    "# Explanation: Use in operator.\n",
    "# Input: {\"x\": 1}, key = \"x\"\n",
    "# Output: True\n",
    "def check(n,m):\n",
    "    if m in n:\n",
    "        return True\n",
    "    return False\n",
    "n={\"x\":1}\n",
    "key=\"x\"\n",
    "print(check(n,key))"
   ]
  },
  {
   "cell_type": "code",
   "execution_count": 54,
   "id": "fbd7fff8",
   "metadata": {},
   "outputs": [
    {
     "name": "stdout",
     "output_type": "stream",
     "text": [
      "('a', 10) ('b', 20) "
     ]
    }
   ],
   "source": [
    "# 15. Iterate Over Dictionary\n",
    "# Problem: Print all keys and values.\n",
    "# Explanation: Use .items() in loop.\n",
    "# Input: {\"a\": 10, \"b\": 20}\n",
    "# Output: a 10, b 20\n",
    "def dic(n):\n",
    "    for key in n.items():\n",
    "        print(key,end=\" \")\n",
    "n={\"a\":10,\"b\":20}\n",
    "dic(n)"
   ]
  },
  {
   "cell_type": "code",
   "execution_count": 55,
   "id": "354c2c36",
   "metadata": {},
   "outputs": [
    {
     "name": "stdout",
     "output_type": "stream",
     "text": [
      "2\n"
     ]
    }
   ],
   "source": [
    "# 16. Dictionary Length\n",
    "# Problem: Count total key-value pairs.\n",
    "# Explanation: Use len() function.\n",
    "# Input: {\"x\": 1, \"y\": 2}\n",
    "# Output: 2\n",
    "def lenth(n):\n",
    "    cnt=0\n",
    "    for i in n:\n",
    "        cnt+=1\n",
    "    return cnt\n",
    "n={\"x\":1,\"y\":2}\n",
    "print(lenth(n))\n"
   ]
  },
  {
   "cell_type": "code",
   "execution_count": 56,
   "id": "aee9a00a",
   "metadata": {},
   "outputs": [
    {
     "name": "stdout",
     "output_type": "stream",
     "text": [
      "{'a': 1, 'b': 2}\n"
     ]
    }
   ],
   "source": [
    "# 17. Merge Two Dictionaries\n",
    "# Problem: Combine two dictionaries.\n",
    "# Explanation: Use unpacking or update().\n",
    "# Input: {\"a\": 1}, {\"b\": 2}\n",
    "# Output: {\"a\": 1, \"b\": 2}\n",
    "def merge(n,m):\n",
    "    n.update(m)\n",
    "    return n\n",
    "n={\"a\":1}\n",
    "m={\"b\":2}\n",
    "print(merge(n,m))"
   ]
  },
  {
   "cell_type": "code",
   "execution_count": 57,
   "id": "cce06a83",
   "metadata": {},
   "outputs": [
    {
     "name": "stdout",
     "output_type": "stream",
     "text": [
      "0\n"
     ]
    }
   ],
   "source": [
    "# 18. Get Value with Default\n",
    "# Problem: Get value or default if key not found.\n",
    "# Explanation: Use get() method.\n",
    "# Input: {\"a\": 1}, get \"b\" with default 0\n",
    "# Output: 0\n",
    "def value(n):\n",
    "    \n",
    "    res=n.get(\"b\",0)\n",
    "    \n",
    "    return res\n",
    "n={\"a\":1}\n",
    "print(value(n))"
   ]
  },
  {
   "cell_type": "code",
   "execution_count": 58,
   "id": "5065e013",
   "metadata": {},
   "outputs": [
    {
     "name": "stdout",
     "output_type": "stream",
     "text": [
      "{1: 1, 2: 2, 3: 1}\n"
     ]
    }
   ],
   "source": [
    "# 19. Count Frequency of Elements\n",
    "# Problem: Count frequency using dictionary.\n",
    "# Input: [1, 2, 2, 3]\n",
    "# Output: {1: 1, 2: 2, 3: 1}\n",
    "def count(n):\n",
    "    res={}\n",
    "    for i in n:\n",
    "        if i not in res:\n",
    "            res[i]=1\n",
    "        else:\n",
    "            res[i]+=1\n",
    "    return res\n",
    "n=[1,2,2,3]\n",
    "print(count(n))"
   ]
  },
  {
   "cell_type": "code",
   "execution_count": 59,
   "id": "1f56d204",
   "metadata": {},
   "outputs": [
    {
     "name": "stdout",
     "output_type": "stream",
     "text": [
      "{1: 'a', 2: 'b'}\n"
     ]
    }
   ],
   "source": [
    "# 20. Invert a Dictionary\n",
    "# Problem: Flip keys and values.\n",
    "# Input: {\"a\": 1, \"b\": 2}\n",
    "# Output: {1: \"a\", 2: \"b\"}\n",
    "def invert(n):\n",
    "    res={}\n",
    "    for key,val in n.items():\n",
    "        res[val]=key\n",
    "    return res\n",
    "n={\"a\":1,\"b\":2}\n",
    "print(invert(n))"
   ]
  },
  {
   "cell_type": "code",
   "execution_count": 4,
   "id": "cc57c37d",
   "metadata": {},
   "outputs": [
    {
     "name": "stdout",
     "output_type": "stream",
     "text": [
      "b\n"
     ]
    }
   ],
   "source": [
    "# 21. Find Key with Maximum Value\n",
    "# Problem: Identify the key with the highest value.\n",
    "# Input: {\"a\": 10, \"b\": 20, \"c\": 15}\n",
    "# Output: \"b\"\n",
    "def max(n):\n",
    "    maxkey=None\n",
    "    maxval=float(\"-inf\")\n",
    "    for key,val in n.items():\n",
    "        if val>maxval:\n",
    "            maxval=val\n",
    "            maxkey=key\n",
    "            \n",
    "    return maxkey\n",
    "n= {\"a\": 10, \"b\": 20, \"c\": 15}\n",
    "print(max(n))"
   ]
  },
  {
   "cell_type": "code",
   "execution_count": 10,
   "id": "af9c2dc9",
   "metadata": {},
   "outputs": [
    {
     "name": "stdout",
     "output_type": "stream",
     "text": [
      "[('b', 1), ('c', 2), ('a', 3)]\n"
     ]
    }
   ],
   "source": [
    "# 22. Sort Dictionary by Values\n",
    "# Problem: Sort a dictionary based on its values.\n",
    "# Input: {\"a\": 3, \"b\": 1, \"c\": 2}\n",
    "# Output: [('b', 1), ('c', 2), ('a', 3)]\n",
    "def values(n):\n",
    "    items=list(n.items())\n",
    "    for i in range(len(n)):\n",
    "        for key in range(len(n)-i-1):\n",
    "            if items[key][1]>items[key+1][1]:\n",
    "                items[key],items[key+1]=items[key+1],items[key]\n",
    "    return items\n",
    "n= {\"a\": 3, \"b\": 1, \"c\": 2}\n",
    "print(values(n))"
   ]
  },
  {
   "cell_type": "code",
   "execution_count": 12,
   "id": "51101b98",
   "metadata": {},
   "outputs": [
    {
     "name": "stdout",
     "output_type": "stream",
     "text": [
      "{1: 1, 2: 4, 3: 9}\n"
     ]
    }
   ],
   "source": [
    "# 23. Create Dictionary of Squares\n",
    "# Problem: Create dictionary where keys are numbers and values are their squares.\n",
    "# Input: range(1, 4)\n",
    "# Output: {1: 1, 2: 4, 3: 9}\n",
    "def square(n):\n",
    "    for i in range(1,4):\n",
    "        if i not in n:\n",
    "            n[i]=i**2\n",
    "        else:\n",
    "            n[i]+=i**2\n",
    "    return n\n",
    "n={}\n",
    "print(square(n))\n"
   ]
  },
  {
   "cell_type": "code",
   "execution_count": 15,
   "id": "309d5fe9",
   "metadata": {},
   "outputs": [
    {
     "name": "stdout",
     "output_type": "stream",
     "text": [
      "{'a': 10, 'c': 15}\n"
     ]
    }
   ],
   "source": [
    "# 24. Filter Dictionary by Value Condition\n",
    "# Problem: Retain only items with value greater than a threshold.\n",
    "# Input: {\"a\": 10, \"b\": 5, \"c\": 15}, condition: > 10\n",
    "# Output: {\"c\": 15}\n",
    "def condition(n,m):\n",
    "    res={}\n",
    "    for key,val in n.items():\n",
    "        if val>=m:\n",
    "            res[key]=val\n",
    "    return res\n",
    "n={\"a\": 10, \"b\": 5, \"c\": 15}\n",
    "m=10\n",
    "print(condition(n,m))\n"
   ]
  },
  {
   "cell_type": "code",
   "execution_count": null,
   "id": "a98c8c1d",
   "metadata": {},
   "outputs": [
    {
     "name": "stdout",
     "output_type": "stream",
     "text": [
      "{'a': 4, 'b': 2, 'c': 4}\n"
     ]
    }
   ],
   "source": [
    "# 25. Combine Values of Duplicate Keys\n",
    "# Problem: Given two dictionaries, add values of common keys.\n",
    "# Input: {\"a\": 1, \"b\": 2}, {\"a\": 3, \"c\": 4}\n",
    "# Output: {\"a\": 4, \"b\": 2, \"c\": 4}\n",
    "def duplicate(n,m):\n",
    "    for key,val in m.items():\n",
    "        if key in n:\n",
    "            n[key]+=val\n",
    "        else:\n",
    "            n[key]=val\n",
    "    return n\n",
    "n={\"a\": 1, \"b\": 2}\n",
    "m={\"a\": 3, \"c\": 4}\n",
    "print(duplicate(n,m))\n"
   ]
  },
  {
   "cell_type": "code",
   "execution_count": 19,
   "id": "1ab8a8d3",
   "metadata": {},
   "outputs": [
    {
     "name": "stdout",
     "output_type": "stream",
     "text": [
      "{'apple': 2, 'banana': 1}\n"
     ]
    }
   ],
   "source": [
    "# 26. Count Word Frequency in Sentence\n",
    "# Problem: Count occurrences of each word in a string.\n",
    "# Input: \"apple banana apple\"\n",
    "# Output: {\"apple\": 2, \"banana\": 1}\n",
    "def word(n):\n",
    "    res=n.split(\" \")\n",
    "    op={}\n",
    "    for i in res:\n",
    "        if i not in op:\n",
    "            op[i]=1\n",
    "        else:\n",
    "            op[i]+=1\n",
    "    return op\n",
    "n=\"apple banana apple\"\n",
    "print(word(n))"
   ]
  },
  {
   "cell_type": "code",
   "execution_count": 23,
   "id": "a469b1d7",
   "metadata": {},
   "outputs": [
    {
     "name": "stdout",
     "output_type": "stream",
     "text": [
      "{'a': 1, 'b': 2}\n"
     ]
    }
   ],
   "source": [
    "# 27. Remove Duplicate Values from Dictionary\n",
    "# Problem: Remove duplicate values keeping first key only.\n",
    "# Input: {\"a\": 1, \"b\": 2, \"c\": 1}\n",
    "# Output: {\"a\": 1, \"b\": 2}\n",
    "def duplicate(n):\n",
    "    res={}\n",
    "    \n",
    "    for key,val in n.items():\n",
    "        if val not in res.values():\n",
    "            res[key]=val\n",
    "    return res\n",
    "n={\"a\": 1, \"b\": 2, \"c\": 1}\n",
    "print(duplicate(n))\n"
   ]
  },
  {
   "cell_type": "code",
   "execution_count": 31,
   "id": "09084eb9",
   "metadata": {},
   "outputs": [
    {
     "name": "stdout",
     "output_type": "stream",
     "text": [
      "['b']\n"
     ]
    }
   ],
   "source": [
    "# 28. Find Common Keys in Two Dictionaries\n",
    "# Problem: Return keys common to both dictionaries.\n",
    "# Input: {\"a\": 1, \"b\": 2}, {\"b\": 3, \"c\": 4}\n",
    "# Output: [\"b\"]\n",
    "def common(n,m):\n",
    "    for key,val in m.items():\n",
    "        if key in n:\n",
    "            return [key]\n",
    "n={\"a\": 1, \"b\": 2}\n",
    "m= {\"b\": 3, \"c\": 4}\n",
    "print(common(n,m))"
   ]
  },
  {
   "cell_type": "code",
   "execution_count": 34,
   "id": "c5f53ba5",
   "metadata": {},
   "outputs": [
    {
     "name": "stdout",
     "output_type": "stream",
     "text": [
      "{1: 'x', 2: 'y'}\n"
     ]
    }
   ],
   "source": [
    "# 29. Swap Keys and Values Safely\n",
    "# Problem: Flip keys and values ensuring all values are unique.\n",
    "# Input: {\"x\": 1, \"y\": 2}\n",
    "# Output: {1: \"x\", 2: \"y\"}\n",
    "def swap(n):\n",
    "    res={}\n",
    "    for key, val in n.items():\n",
    "        res[val]=key\n",
    "    return res\n",
    "n={\"x\": 1, \"y\": 2}\n",
    "print(swap(n))"
   ]
  },
  {
   "cell_type": "code",
   "execution_count": 37,
   "id": "fd90e735",
   "metadata": {},
   "outputs": [
    {
     "name": "stdout",
     "output_type": "stream",
     "text": [
      "{'b': 2}\n"
     ]
    }
   ],
   "source": [
    "# 30. Delete Items by Value\n",
    "# Problem: Remove key-value pairs with specific value.\n",
    "# Input: {\"a\": 1, \"b\": 2, \"c\": 1}, value: 1\n",
    "# Output: {\"b\": 2}\n",
    "def delete(n,m):\n",
    "    for key,val in list(n.items()):\n",
    "        if val==m:\n",
    "            del n[key]\n",
    "    return n\n",
    "n={\"a\": 1, \"b\": 2, \"c\": 1}\n",
    "m=1\n",
    "print(delete(n,m))\n"
   ]
  }
 ],
 "metadata": {
  "kernelspec": {
   "display_name": "Python 3",
   "language": "python",
   "name": "python3"
  },
  "language_info": {
   "codemirror_mode": {
    "name": "ipython",
    "version": 3
   },
   "file_extension": ".py",
   "mimetype": "text/x-python",
   "name": "python",
   "nbconvert_exporter": "python",
   "pygments_lexer": "ipython3",
   "version": "3.13.1"
  }
 },
 "nbformat": 4,
 "nbformat_minor": 5
}
