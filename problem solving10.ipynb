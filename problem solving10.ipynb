{
 "cells": [
  {
   "cell_type": "code",
   "execution_count": 5,
   "id": "43c897fb",
   "metadata": {},
   "outputs": [
    {
     "name": "stdout",
     "output_type": "stream",
     "text": [
      "True\n"
     ]
    }
   ],
   "source": [
    "# 1. Check if a Matrix is Square\n",
    "# Problem: Determine if the given matrix is square.\n",
    "# Explanation: A matrix is square if the number of rows equals the number of columns.\n",
    "# Input: [[1, 2], [3, 4]]\n",
    "# Output: True\n",
    "def square(n):\n",
    "    if len(n)==len(n[0]):\n",
    "        return True\n",
    "    return False\n",
    "n=[[1, 2], [3, 4]]\n",
    "print(square(n))"
   ]
  },
  {
   "cell_type": "code",
   "execution_count": 4,
   "id": "7614fe7d",
   "metadata": {},
   "outputs": [
    {
     "name": "stdout",
     "output_type": "stream",
     "text": [
      "[1, 4]\n"
     ]
    }
   ],
   "source": [
    "# 2. Print Diagonal Elements\n",
    "# Problem: Print the main diagonal elements of a square matrix.\n",
    "# Explanation: Elements where row index equals column index.\n",
    "# Input: [[1, 2], [3, 4]]\n",
    "# Output: [1, 4]\n",
    "def mat(n):\n",
    "    dia=[]\n",
    "    for i in range(len(n)):\n",
    "        dia.append(n[i][i])\n",
    "    return dia\n",
    "n=[[1, 2], [3, 4]]        \n",
    "print(mat(n))"
   ]
  },
  {
   "cell_type": "code",
   "execution_count": 7,
   "id": "db2ea0ca",
   "metadata": {},
   "outputs": [
    {
     "name": "stdout",
     "output_type": "stream",
     "text": [
      "[2, 3]\n"
     ]
    }
   ],
   "source": [
    "# 3. Print Anti-Diagonal Elements\n",
    "# Problem: Print the anti-diagonal elements.\n",
    "# Explanation: Elements where row + column = n - 1.\n",
    "# Input: [[1, 2], [3, 4]]\n",
    "# Output: [2, 3]\n",
    "def element(n):\n",
    "    antidia=[]\n",
    "    for i in range(len(n)):\n",
    "        antidia.append(n[i][len(n)-i-1])\n",
    "    return antidia\n",
    "n=[[1, 2], [3, 4]]\n",
    "print(element(n))"
   ]
  },
  {
   "cell_type": "code",
   "execution_count": 8,
   "id": "e5dd7421",
   "metadata": {},
   "outputs": [
    {
     "name": "stdout",
     "output_type": "stream",
     "text": [
      "[2, 3]\n"
     ]
    }
   ],
   "source": [
    "# 4. Print Non-Diagonal Elements\n",
    "# Problem: Print all elements except the main diagonal.\n",
    "# Input: [[1, 2], [3, 4]]\n",
    "# Output: [2, 3]\n",
    "def element(n):\n",
    "    nondia=[]\n",
    "    for i in range(len(n)):\n",
    "        for j in range(len(n)):\n",
    "            if i!=j:\n",
    "                nondia.append(n[i][j])\n",
    "    return nondia\n",
    "n=[[1, 2], [3, 4]]\n",
    "print(element(n))"
   ]
  },
  {
   "cell_type": "code",
   "execution_count": 16,
   "id": "3fc60f87",
   "metadata": {},
   "outputs": [
    {
     "name": "stdout",
     "output_type": "stream",
     "text": [
      "[1, 4]\n"
     ]
    }
   ],
   "source": [
    "# 5. Print Non-Anti-Diagonal Elements\n",
    "# Problem: Print all elements excluding anti-diagonal.\n",
    "# Input: [[1, 2], [3, 4]]\n",
    "# Output: [1, 4]\n",
    "def element(n):\n",
    "    antinon=[]\n",
    "    for i in range(len(n)):\n",
    "        for j in range(len(n)):\n",
    "            if i+j!=len(n)-1:\n",
    "                antinon.append(n[i][j])\n",
    "    return antinon\n",
    "n=[[1, 2], [3, 4]]\n",
    "print(element(n))"
   ]
  },
  {
   "cell_type": "code",
   "execution_count": 26,
   "id": "d02365a5",
   "metadata": {},
   "outputs": [
    {
     "data": {
      "text/plain": [
       "[[1, 0], [3, 4]]"
      ]
     },
     "execution_count": 26,
     "metadata": {},
     "output_type": "execute_result"
    }
   ],
   "source": [
    "# 6. Lower Triangle of Matrix\n",
    "# Problem: Extract elements in or below the main diagonal.\n",
    "# Input: [[1, 2], [3, 4]]\n",
    "# Output: [[1, 0], [3, 4]]\n",
    "def mat(n):\n",
    "    for i in range(len(n)):\n",
    "        for j in range(len(n)):\n",
    "            if i>=j:\n",
    "                n[i][j]=n[i][j]\n",
    "            else:\n",
    "                n[i][j]=0\n",
    "    return n    \n",
    "    \n",
    "n=[[1, 2], [3, 4]]\n",
    "mat(n)\n",
    "                "
   ]
  },
  {
   "cell_type": "code",
   "execution_count": 29,
   "id": "66afec57",
   "metadata": {},
   "outputs": [
    {
     "data": {
      "text/plain": [
       "[[1, 2], [0, 4]]"
      ]
     },
     "execution_count": 29,
     "metadata": {},
     "output_type": "execute_result"
    }
   ],
   "source": [
    "# 7. Upper Triangle of Matrix\n",
    "# Problem: Extract elements in or above the main diagonal.\n",
    "# Input: [[1, 2], [3, 4]]\n",
    "# Output: [[1, 2], [0, 4]]\n",
    "def mat(n):\n",
    "    for i in range(len(n)):\n",
    "        for j in range(len(n)):\n",
    "            if j>=i:\n",
    "                n[i][j]=n[i][j]\n",
    "            else:\n",
    "                n[i][j]=0\n",
    "    return n    \n",
    "    \n",
    "n=[[1, 2], [3, 4]]\n",
    "mat(n)\n"
   ]
  },
  {
   "cell_type": "code",
   "execution_count": 36,
   "id": "ff8fa228",
   "metadata": {},
   "outputs": [
    {
     "name": "stdout",
     "output_type": "stream",
     "text": [
      "[[1, 3], [2, 4]]\n"
     ]
    }
   ],
   "source": [
    "# 8. Transpose of Matrix\n",
    "# Problem: Transpose the matrix (flip over the diagonal).\n",
    "# Input: [[1, 2], [3, 4]]\n",
    "# Output: [[1, 3], [2, 4]]\n",
    "def transpose(n):\n",
    "    for i in range(len(n)):\n",
    "        for j in range(i,len(n)):\n",
    "            n[i][j],n[j][i]= n[j][i],n[i][j]\n",
    "\n",
    "    return n\n",
    "n= [[1, 2], [3, 4]]\n",
    "print(transpose(n))"
   ]
  },
  {
   "cell_type": "code",
   "execution_count": null,
   "id": "a40cb0cc",
   "metadata": {},
   "outputs": [
    {
     "name": "stdout",
     "output_type": "stream",
     "text": [
      "True\n"
     ]
    }
   ],
   "source": [
    "# 9. Check if Diagonal Elements are Same\n",
    "# Problem: Verify all diagonal elements are equal.\n",
    "# Input: [[5, 0], [0, 5]]\n",
    "# Output: True\n",
    "def mat(n):\n",
    "    for i in range(len(n)):\n",
    "        if n[i][i]!=n[0][0]:\n",
    "            return False\n",
    "    return True\n",
    "n= [[5, 0], [0, 5]]\n",
    "print(mat(n))"
   ]
  },
  {
   "cell_type": "code",
   "execution_count": 43,
   "id": "e5e12605",
   "metadata": {},
   "outputs": [
    {
     "name": "stdout",
     "output_type": "stream",
     "text": [
      "True\n"
     ]
    }
   ],
   "source": [
    "# 10. Check if Anti-Diagonal Elements are Same\n",
    "# Problem: Verify all anti-diagonal elements are equal.\n",
    "# Input: [[0, 3], [3, 0]]\n",
    "def element(n):\n",
    "    \n",
    "    for i in range(len(n)):\n",
    "        if n[i][len(n)-i-1]!=n[0][len(n)-1]:\n",
    "            return False\n",
    "    return True\n",
    "n=[[0, 3], [3, 0]]\n",
    "print(element(n))"
   ]
  },
  {
   "cell_type": "code",
   "execution_count": 44,
   "id": "3e14f3f3",
   "metadata": {},
   "outputs": [
    {
     "name": "stdout",
     "output_type": "stream",
     "text": [
      "[[0, 2], [3, 0]]\n"
     ]
    }
   ],
   "source": [
    "# 11. Convert Diagonal Elements to Zero\n",
    "# Problem: Set all diagonal elements to zero.\n",
    "# Input: [[1, 2], [3, 4]]\n",
    "# Output: [[0, 2], [3, 0]]\n",
    "def element(n):\n",
    "    \n",
    "    for i in range(len(n)):\n",
    "        n[i][i]=0\n",
    "            \n",
    "    return n\n",
    "n=[[1, 2], [3, 4]]\n",
    "print(element(n))"
   ]
  },
  {
   "cell_type": "code",
   "execution_count": 46,
   "id": "39a3afd5",
   "metadata": {},
   "outputs": [
    {
     "name": "stdout",
     "output_type": "stream",
     "text": [
      "[[1, 0], [0, 4]]\n"
     ]
    }
   ],
   "source": [
    "# 12. Convert Anti-Diagonal Elements to Zero\n",
    "# Problem: Set all anti-diagonal elements to zero.\n",
    "# Input: [[1, 2], [3, 4]]\n",
    "# Output: [[1, 0], [0, 4]]\n",
    "# 11. Convert Diagonal Elements to Zero\n",
    "# Problem: Set all diagonal elements to zero.\n",
    "# Input: [[1, 2], [3, 4]]\n",
    "# Output: [[0, 2], [3, 0]]\n",
    "def element(n):\n",
    "    \n",
    "    for i in range(len(n)):\n",
    "        n[i][len(n)-i-1]=0\n",
    "            \n",
    "    return n\n",
    "n=[[1, 2], [3, 4]]\n",
    "print(element(n))"
   ]
  },
  {
   "cell_type": "code",
   "execution_count": 48,
   "id": "bf9c7b90",
   "metadata": {},
   "outputs": [
    {
     "name": "stdout",
     "output_type": "stream",
     "text": [
      "[[1, 0], [0, 4]]\n"
     ]
    }
   ],
   "source": [
    "# 13. Convert Non-Diagonal Elements to Zero\n",
    "# Problem: Only keep diagonal elements, set rest to zero.\n",
    "# Input: [[1, 2], [3, 4]]\n",
    "# Output: [[1, 0], [0, 4]]\n",
    "def element(n):\n",
    "    \n",
    "    for i in range(len(n)):\n",
    "        for j in range(len(n)):\n",
    "            if i!=j:\n",
    "                n[i][j]=0\n",
    "            \n",
    "    return n\n",
    "n=[[1, 2], [3, 4]]\n",
    "print(element(n))"
   ]
  },
  {
   "cell_type": "code",
   "execution_count": null,
   "id": "7eb326e0",
   "metadata": {},
   "outputs": [
    {
     "name": "stdout",
     "output_type": "stream",
     "text": [
      "[[0, 2], [3, 0]]\n"
     ]
    }
   ],
   "source": [
    "# 13. Convert anti Non-Diagonal Elements to Zero\n",
    "# Problem: Only keep diagonal elements, set rest to zero.\n",
    "# Input: [[1, 2], [3, 4]]\n",
    "# Output: [[1, 0], [0, 4]]\n",
    "def element(n):\n",
    "    \n",
    "    for i in range(len(n)):\n",
    "        for j in range(len(n[0])):\n",
    "            if i+j!=len(n)-1:\n",
    "                \n",
    "                n[i][j]=0\n",
    "            \n",
    "    return n\n",
    "n=[[1, 2], [3, 4]]\n",
    "print(element(n))"
   ]
  },
  {
   "cell_type": "code",
   "execution_count": 55,
   "id": "f982eace",
   "metadata": {},
   "outputs": [
    {
     "name": "stdout",
     "output_type": "stream",
     "text": [
      "10\n"
     ]
    }
   ],
   "source": [
    "# 14. Sum of All Elements in Matrix\n",
    "# Problem: Calculate the total sum of matrix elements.\n",
    "# Input: [[1, 2], [3, 4]]\n",
    "# Output: 10\n",
    "def element(n):\n",
    "    res=0\n",
    "    for i in range(len(n)):\n",
    "        for j in range(len(n[0])):\n",
    "            res+=n[i][j]\n",
    "            \n",
    "    return res\n",
    "n=[[1, 2], [3, 4]]\n",
    "print(element(n))\n"
   ]
  },
  {
   "cell_type": "code",
   "execution_count": 54,
   "id": "6a7964c4",
   "metadata": {},
   "outputs": [
    {
     "name": "stdout",
     "output_type": "stream",
     "text": [
      "[[19, 22], [43, 50]]\n"
     ]
    }
   ],
   "source": [
    "# 15. Matrix Multiplication\n",
    "# Problem: Multiply two matrices if their dimensions are compatible.\n",
    "# Input: A = [[1, 2], [3, 4]], B = [[5, 6], [7, 8]]\n",
    "# Output: [[19, 22], [43, 50]]\n",
    "def element(A,B):\n",
    "    arow=len(A)\n",
    "    acol=len(A[0])\n",
    "    brow=len(B)\n",
    "    bcol=len(B[0])\n",
    "    C=[[0  for i in range(bcol)]for j in range(arow)]\n",
    "\n",
    "    for i in range(arow):\n",
    "        for j in range(bcol):\n",
    "            for k in range(acol):\n",
    "                C[i][j]+=A[i][k]*B[k][j]\n",
    "    return C\n",
    "A = [[1, 2], [3, 4]]\n",
    "B = [[5, 6], [7, 8]]\n",
    "print(element(A,B))"
   ]
  }
 ],
 "metadata": {
  "kernelspec": {
   "display_name": "Python 3",
   "language": "python",
   "name": "python3"
  },
  "language_info": {
   "codemirror_mode": {
    "name": "ipython",
    "version": 3
   },
   "file_extension": ".py",
   "mimetype": "text/x-python",
   "name": "python",
   "nbconvert_exporter": "python",
   "pygments_lexer": "ipython3",
   "version": "3.13.1"
  }
 },
 "nbformat": 4,
 "nbformat_minor": 5
}
