{
 "cells": [
  {
   "cell_type": "code",
   "execution_count": 10,
   "id": "b0d191e9",
   "metadata": {},
   "outputs": [
    {
     "name": "stdout",
     "output_type": "stream",
     "text": [
      "25\n"
     ]
    }
   ],
   "source": [
    "# Question: Calculate the area of a square. - Formula: Area = side × side - Input: - Side = 5 \n",
    "squside=5\n",
    "squarearea=squside*squside\n",
    "print(squarearea)"
   ]
  },
  {
   "cell_type": "code",
   "execution_count": 9,
   "id": "0078f43b",
   "metadata": {},
   "outputs": [
    {
     "name": "stdout",
     "output_type": "stream",
     "text": [
      "24\n"
     ]
    }
   ],
   "source": [
    "# Question: Calculate the area of a square. - Formula: Area = side × side - Input: - Side = 5 \n",
    "length=6\n",
    "breadth=4\n",
    "area=length*breadth\n",
    "print(area)"
   ]
  },
  {
   "cell_type": "code",
   "execution_count": 8,
   "id": "949c3aad",
   "metadata": {},
   "outputs": [
    {
     "name": "stdout",
     "output_type": "stream",
     "text": [
      "20.0\n"
     ]
    }
   ],
   "source": [
    "# Question: Calculate the area of a triangle using base and height. - Formula: Area = (1/2) × base × height - Input: - Base = 8 - Height = 5 \n",
    "base=8\n",
    "height=5\n",
    "area=1/2*base*height\n",
    "print(area)"
   ]
  },
  {
   "cell_type": "code",
   "execution_count": 7,
   "id": "98f0e032",
   "metadata": {},
   "outputs": [
    {
     "name": "stdout",
     "output_type": "stream",
     "text": [
      "24\n"
     ]
    }
   ],
   "source": [
    "# Question: Calculate the perimeter of a square. - Formula: Perimeter = 4 × side - Input: - Side = 6\n",
    "side=6\n",
    "perimeter=4*side\n",
    "print(perimeter)"
   ]
  },
  {
   "cell_type": "code",
   "execution_count": 6,
   "id": "f8218177",
   "metadata": {},
   "outputs": [
    {
     "name": "stdout",
     "output_type": "stream",
     "text": [
      "16\n"
     ]
    }
   ],
   "source": [
    "# Question: Calculate the perimeter of a rectangle. - Formula: Perimeter = 2 × (length + breadth) - Input: - Length = 5 - Breadth = 3 - \n",
    "length=5\n",
    "breadth=3\n",
    "perimeter=2*(length+breadth)\n",
    "print(perimeter)"
   ]
  },
  {
   "cell_type": "code",
   "execution_count": 5,
   "id": "bd1c8951",
   "metadata": {},
   "outputs": [
    {
     "name": "stdout",
     "output_type": "stream",
     "text": [
      "18\n"
     ]
    }
   ],
   "source": [
    "# Question: Calculate the perimeter of a triangle. - Formula: Perimeter = side1 + side2 + side3 - Input: - Side1 = 5, Side2 = 6, Side3 = 7\n",
    "side1=5\n",
    "side2=6\n",
    "side3=7\n",
    "perimeter=side1+side2+side3\n",
    "print(perimeter)"
   ]
  },
  {
   "cell_type": "code",
   "execution_count": 4,
   "id": "1f402dca",
   "metadata": {},
   "outputs": [
    {
     "name": "stdout",
     "output_type": "stream",
     "text": [
      "1000:3-500:1-100:2\n"
     ]
    }
   ],
   "source": [
    "# Question: Break the total amount into denominations. - Input: - Amount = 3700 \n",
    "amount=3700\n",
    "thound=3700//1000\n",
    "fhunder=3700%1000\n",
    "fhund=fhunder//500\n",
    "hunder=fhunder%500\n",
    "hund=hunder//100\n",
    "\n",
    "\n",
    "print(f\"1000:{thound}-500:{fhund}-100:{hund}\")"
   ]
  },
  {
   "cell_type": "code",
   "execution_count": 3,
   "id": "e1bcdc45",
   "metadata": {},
   "outputs": [
    {
     "name": "stdout",
     "output_type": "stream",
     "text": [
      "hours:1,min:1,sec=12\n"
     ]
    }
   ],
   "source": [
    "# Question: Convert total seconds into hours, minutes, and seconds. - Input: - Total seconds = 3672\n",
    "totalsecond=3672\n",
    "hour=totalsecond//3600\n",
    "remaining=totalsecond%3600\n",
    "min=remaining//60\n",
    "sec=remaining%60\n",
    "print(f\"hours:{hour},min:{min},sec={sec}\")\n"
   ]
  },
  {
   "cell_type": "code",
   "execution_count": 2,
   "id": "9674e1e6",
   "metadata": {},
   "outputs": [
    {
     "name": "stdout",
     "output_type": "stream",
     "text": [
      "263\n"
     ]
    }
   ],
   "source": [
    "# Question: Calculate the sum of marks in 3 subjects. - Input: - Maths = 85 - Physics = 90 - Chemistry = 88\n",
    "maths=85\n",
    "physics=90\n",
    "chemistry=88\n",
    "totalmarks=maths+physics+chemistry\n",
    "print(totalmarks)"
   ]
  },
  {
   "cell_type": "code",
   "execution_count": 1,
   "id": "1fe3bb21",
   "metadata": {},
   "outputs": [
    {
     "name": "stdout",
     "output_type": "stream",
     "text": [
      "87.66666666666667\n"
     ]
    }
   ],
   "source": [
    "# Question: Calculate the average of marks in 3 subjects. - Input: - Maths = 85 - Physics = 90 - Chemistry = 88\n",
    "maths=85\n",
    "physics=90\n",
    "chemistry=88\n",
    "average=(maths+physics+chemistry)/3\n",
    "print(average)\n"
   ]
  }
 ],
 "metadata": {
  "kernelspec": {
   "display_name": "Python 3",
   "language": "python",
   "name": "python3"
  },
  "language_info": {
   "codemirror_mode": {
    "name": "ipython",
    "version": 3
   },
   "file_extension": ".py",
   "mimetype": "text/x-python",
   "name": "python",
   "nbconvert_exporter": "python",
   "pygments_lexer": "ipython3",
   "version": "3.13.1"
  }
 },
 "nbformat": 4,
 "nbformat_minor": 5
}
