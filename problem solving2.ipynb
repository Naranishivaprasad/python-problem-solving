{
 "cells": [
  {
   "cell_type": "code",
   "execution_count": 1,
   "id": "67bfbdfb",
   "metadata": {},
   "outputs": [
    {
     "name": "stdout",
     "output_type": "stream",
     "text": [
      "even num\n"
     ]
    }
   ],
   "source": [
    "# problem solving 2\n",
    "# Question: Determine whether a number is even or odd. Explanation: A number is even if it is divisible by 2. Otherwise, it’s odd. - Input: Number = 6 \n",
    "n=6\n",
    "if n%2==0:\n",
    "    print(\"even num\")\n",
    "else:\n",
    "    print(\"odd\")"
   ]
  },
  {
   "cell_type": "code",
   "execution_count": 2,
   "id": "c3c00ade",
   "metadata": {},
   "outputs": [
    {
     "name": "stdout",
     "output_type": "stream",
     "text": [
      "satify\n"
     ]
    }
   ],
   "source": [
    "# Question: Check if a number is divisible by 5 but not by 10. Explanation: Use modulo (%) to check if the number % 5 == 0 and number % 10 != 0. - Input: Number = 25\n",
    "num=25\n",
    "if (num%5==0) and (num%10!=0):\n",
    "    print(\"satify\")\n",
    "else:\n",
    "    print(\"not\")"
   ]
  },
  {
   "cell_type": "code",
   "execution_count": 3,
   "id": "6fdabd72",
   "metadata": {},
   "outputs": [
    {
     "name": "stdout",
     "output_type": "stream",
     "text": [
      "bigger is:7\n"
     ]
    }
   ],
   "source": [
    "# Question: Find the biggest number among two. Explanation: Use comparison operators (>) to check which number is greater. - Input: A = 4, B = 7 \n",
    "A = 4\n",
    "B = 7\n",
    "if A>B:\n",
    "    print(f\"bigger is:{A}\")\n",
    "else:\n",
    "    print(f\"bigger is:{B}\")"
   ]
  },
  {
   "cell_type": "code",
   "execution_count": 4,
   "id": "3824dcc0",
   "metadata": {},
   "outputs": [
    {
     "name": "stdout",
     "output_type": "stream",
     "text": [
      "smaller is:4\n"
     ]
    }
   ],
   "source": [
    "# Question: Find the smallest number among two. Explanation: Use comparison operators (<) to find the smaller value. - Input: A = 4, B = 7\n",
    "A = 4\n",
    "B = 7\n",
    "if A<B:\n",
    "    print(f\"smaller is:{A}\")\n",
    "else:\n",
    "    print(f\"smaller is:{B}\")"
   ]
  },
  {
   "cell_type": "code",
   "execution_count": 5,
   "id": "090f84ed",
   "metadata": {},
   "outputs": [
    {
     "name": "stdout",
     "output_type": "stream",
     "text": [
      "satisfy\n"
     ]
    }
   ],
   "source": [
    "# Question: Check if a number is divisible by 2, 3, and 6. Explanation: If a number is divisible by both 2 and 3, it is also divisible by 6. - Input: Number = 18\n",
    "num=18\n",
    "if num%2==0 and num%3==0:\n",
    "    print(\"satisfy\")\n",
    "else:\n",
    "    print(\"not\")"
   ]
  },
  {
   "cell_type": "code",
   "execution_count": 6,
   "id": "6ccc735e",
   "metadata": {},
   "outputs": [
    {
     "name": "stdout",
     "output_type": "stream",
     "text": [
      "eligible to vote\n"
     ]
    }
   ],
   "source": [
    "# Question: Check if a person is eligible to vote (age >= 18). Explanation: A person is eligible to vote if their age is 18 or above. - Input: Age = 19 - \n",
    "age=19\n",
    "if age>=18:\n",
    "    print(\"eligible to vote\")\n",
    "else:\n",
    "    print(\"not eligible\")\n"
   ]
  },
  {
   "cell_type": "code",
   "execution_count": 7,
   "id": "5108f617",
   "metadata": {},
   "outputs": [
    {
     "name": "stdout",
     "output_type": "stream",
     "text": [
      "fail\n"
     ]
    }
   ],
   "source": [
    "# Question: Check if a student passed all subjects (maths, physics, chemistry). Explanation: Student passes only if marks in all subjects are 35 or more. - Input: Maths = 40, Physics = 36, Chemistry = 30 \n",
    "maths=40\n",
    "physics=36\n",
    "chemistry=30\n",
    "if maths>=35 and physics>=35 and chemistry>=35:\n",
    "    print(\"pass\")\n",
    "else:\n",
    "    print(\"fail\")"
   ]
  },
  {
   "cell_type": "code",
   "execution_count": 8,
   "id": "5fb48a3a",
   "metadata": {},
   "outputs": [
    {
     "name": "stdout",
     "output_type": "stream",
     "text": [
      "pass\n"
     ]
    }
   ],
   "source": [
    "# Question: Check if the student passed at least one subject. Explanation: Use logical OR to check if any one subject has marks >= 35. - Input: Maths = 20, Physics = 38, Chemistry = 25\n",
    "maths=20\n",
    "physics=38\n",
    "chemistry=25\n",
    "if maths>=35 or physics>=35 or chemistry>=35:\n",
    "    print(\"pass\")\n",
    "else:\n",
    "    print(\"fail\")"
   ]
  },
  {
   "cell_type": "code",
   "execution_count": 9,
   "id": "31af3af9",
   "metadata": {},
   "outputs": [
    {
     "name": "stdout",
     "output_type": "stream",
     "text": [
      "pass\n"
     ]
    }
   ],
   "source": [
    "# Question: Check if the student passed any two out of three subjects. Explanation: Use a counter or logical conditions to verify two subjects >= 35\n",
    "Maths = 40\n",
    "Physics = 20\n",
    "Chemistry = 36\n",
    "if (Maths>=35 and Physics>=35) or (Maths>=35 and Chemistry>=35) or (Physics>=35 and Chemistry>=35):\n",
    "    print(\"pass\")\n",
    "else:\n",
    "    print(\"fail\")"
   ]
  },
  {
   "cell_type": "code",
   "execution_count": 10,
   "id": "4cb3949c",
   "metadata": {},
   "outputs": [
    {
     "name": "stdout",
     "output_type": "stream",
     "text": [
      "9 is bigger\n"
     ]
    }
   ],
   "source": [
    "# Question: Find the biggest number among three. Explanation: Compare each pair of numbers using if-else conditions. - Input: A = 7, B = 4, C = 9\n",
    "a=7\n",
    "b=4\n",
    "c=9\n",
    "if a>b and a>c:\n",
    "    print(f\"{a} is bigger\")\n",
    "elif b>a and b>c:\n",
    "    print(f\"{b} is bigger\")\n",
    "else:\n",
    "    print(f\"{c} is bigger\")\n",
    "    "
   ]
  },
  {
   "cell_type": "code",
   "execution_count": 11,
   "id": "24135e29",
   "metadata": {},
   "outputs": [
    {
     "name": "stdout",
     "output_type": "stream",
     "text": [
      "4 is smallest\n"
     ]
    }
   ],
   "source": [
    "\n",
    "# Question: Find the smallest number among three. Explanation: Use comparison logic to determine the minimum value. - Input: A = 7, B = 4, C = 9\n",
    "a=7\n",
    "b=4\n",
    "c=9\n",
    "if a<b and a<c:\n",
    "    print(f\"{a} is smallest \")\n",
    "elif b<a and b<c:\n",
    "    print(f\"{b} is smallest\")\n",
    "else:\n",
    "    print(f\"{c} is  smallest\")\n"
   ]
  },
  {
   "cell_type": "code",
   "execution_count": 12,
   "id": "51978cd8",
   "metadata": {},
   "outputs": [
    {
     "name": "stdout",
     "output_type": "stream",
     "text": [
      "not perfect square\n"
     ]
    }
   ],
   "source": [
    "# Question: Check if a number is a perfect square. Explanation: A number is a perfect square if the square of its square root equals the number. - Input: Number = 49 \n",
    "num=50\n",
    "i=0\n",
    "while i*i<=num:\n",
    "    if i*i==num:\n",
    "        print(\"perfect square\")\n",
    "        break\n",
    "    i+=1\n",
    "else:\n",
    "    print(\"not perfect square\")"
   ]
  },
  {
   "cell_type": "code",
   "execution_count": 13,
   "id": "76652495",
   "metadata": {},
   "outputs": [
    {
     "name": "stdout",
     "output_type": "stream",
     "text": [
      "cars: 4\n"
     ]
    }
   ],
   "source": [
    "# Question: Calculate how many cars are needed for a given number of people. Explanation: Divide total people by 5 and round up using ceiling logic. - Input: Members = 17 - Output: Cars needed = 4\n",
    "members=17\n",
    "if members%5==0:\n",
    "    print(\"cars:\",members//5)\n",
    "else:\n",
    "    print(\"cars:\",(members//5)+1)\n"
   ]
  },
  {
   "cell_type": "code",
   "execution_count": 14,
   "id": "bc13460f",
   "metadata": {},
   "outputs": [
    {
     "name": "stdout",
     "output_type": "stream",
     "text": [
      "a is second smaller\n"
     ]
    }
   ],
   "source": [
    "# Question: Find the second largest number among three inputs. Explanation: Use sorting or nested conditions to find the second largest value. - Input: A = 10, B = 25, C = 18 - Output: Second biggest: 18\n",
    "a = 7\n",
    "b = 4\n",
    "c = 9\n",
    "\n",
    "if (a > b and a < c) or (a > c and a < b):\n",
    "    print(\"a is second smaller\")\n",
    "elif (b > a and b < c) or (b > c and b < a):\n",
    "    print(\"b is second smaller\")\n",
    "else:\n",
    "    print(\"c is second smaller\")\n",
    "\n"
   ]
  },
  {
   "cell_type": "code",
   "execution_count": 15,
   "id": "f5613cc3",
   "metadata": {},
   "outputs": [
    {
     "name": "stdout",
     "output_type": "stream",
     "text": [
      "leap year\n"
     ]
    }
   ],
   "source": [
    "# Question: Check if a given year is a leap year. Explanation: A year is a leap year if it is divisible by 4, and (not divisible by 100 unless divisible by 400). - Input: Year = 2024 - Output: Leap year\n",
    "year=2024\n",
    "if (year%4==0 and year%100!=0) or year%400==0:\n",
    "    print(\"leap year\")\n",
    "else:\n",
    "    print(\"not\")"
   ]
  }
 ],
 "metadata": {
  "kernelspec": {
   "display_name": "Python 3",
   "language": "python",
   "name": "python3"
  },
  "language_info": {
   "codemirror_mode": {
    "name": "ipython",
    "version": 3
   },
   "file_extension": ".py",
   "mimetype": "text/x-python",
   "name": "python",
   "nbconvert_exporter": "python",
   "pygments_lexer": "ipython3",
   "version": "3.13.1"
  }
 },
 "nbformat": 4,
 "nbformat_minor": 5
}
